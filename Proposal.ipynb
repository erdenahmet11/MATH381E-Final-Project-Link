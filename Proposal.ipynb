{
 "cells": [
  {
   "cell_type": "markdown",
   "id": "fd7eb68b",
   "metadata": {},
   "source": [
    "# Zomato\n",
    "\n",
    "# Team Members\n",
    "\n",
    "Ahmet Erden - 090190743 \n",
    "\n",
    "Baran Aslan - 090180347 \n",
    "\n",
    "Batuhan Yaşar Sarıoğlu - 090180319\n",
    "\n",
    "# Dataset\n",
    "\n",
    "[Zomato Dataset](https://www.kaggle.com/datasets/rishikeshkonapure/zomato)\n",
    "The dataset contains the url, address, name, whether online order is available, table book option available, overall rating out of 5, total number of rating for the restaurant as of the above mentioned date, the phone number, neighborhood in which the restaurant is located, restaurant type, dishes liked, cuisines, approximate cost for two people, reviews list, menu item, category of restaurant and name of the city \n",
    "\n",
    "# Description of the Problem\n",
    "\n",
    "* Does demographics matter? \n",
    "* Is it possible to make a reservation or order online?\n",
    "* Which cusine is preferred the most?\n",
    "* Which food can be found the most according to the regions?\n",
    "* What are the most expensive dishes?\n",
    "* In which type of restaurants and in which regions the most expensive meals?\n",
    "* Which restaurants are the most preferable according to rate/vote parity?\n",
    "* It can be found restaurants from all over the world in Bengaluru. Therefore, it is a very attractive location for gourmets. There are approximately 12 thousand restaurants in bengaluru, where the number of restaurants is increasing day by day. With such a large number of restaurants, we will take an approach that can decide how competitive a new restaurant can be.\n",
    "\n",
    "We will analyze the data based on the features and reviews given in the zomato.csv dataset and try to predict the rating for a particular restaurant using machine learning. We will use random forest, decision tree and linear regression algorithms while making this estimation. We will choose the one that gives the highest success rate from these algorithms.\n",
    "\n",
    "# Project Planing\n",
    "\n",
    "## Project Pieces\n",
    "\n",
    "Literature review will done by each member of the team. Data acquisition and cleaning will done by Baran Aslan. Data visualization will done by Batuhan Yaşar Sarıoğlu. Exploratory data analysis and model construction will done by Ahmet Erden. Model evaluation and optimization will done by each member of the team. Although we allocate tasks to everyone, we will help each other as the project progresses.\n",
    "\n",
    "## Hardware and Software\n",
    "\n",
    "We will use jupyter notebook, Python 3 and its needed libraries such as Numpy, Pandas, Scikit Learn, Matplotlib.\n",
    "Every member of group has different computer, so we are not a particular hardware.\n",
    "\n",
    "## Calendar\n",
    "\n",
    "21.11.2022 - 27.11.2022 Litearature review,understanding data, data acquisition and cleaning. \n",
    "\n",
    "28.11.2022 - 04.12.2022 Data visualization and interpretation. \n",
    "\n",
    "05.12.2022 - 11.12.2022 Exploratory data analysis and model construction. \n",
    "\n",
    "12.12.2022 - 18.12.2022 Model evalutaion. \n",
    "\n",
    "19.12.2022 - 25.12.2022 Model optimization. \n",
    "\n",
    "26.12.2022 - 30.12.2022 Project submission."
   ]
  },
  {
   "cell_type": "markdown",
   "id": "5f31a2b9-b6e8-4643-aa36-e3ca81c2c2a3",
   "metadata": {},
   "source": [
    "## Atabey's Notes\n",
    "\n",
    "The data has been studied in this manner already at kaggle. Although I like the data, and the questions you are asking, I know that this data and these questions were studied before.\n",
    "\n",
    "Either change the dataset and find a dataset that hasn't been studied as much, or find some other questions and methods that are more interesting, deeper and require a little more work to answer than these. \n",
    "\n",
    "In either case (you decide to use this dataset, or use some other dataset) I would like to see a sample together with explanations on each piece. Moreover, you need to clearly state your hypotheses and questions. (This part is already been done.) Then you need to explain which machine learning algorithms you are going to use and explain how they are going to help you to answer the questions you are asking. How are you going to know/text if the results of the algorithms applied on the dataset confirm or contradict with your hypotheses?\n",
    "\n",
    "Finally, I am gointo need clear statements in the calendar on which team member is doing what and when."
   ]
  },
  {
   "cell_type": "code",
   "execution_count": null,
   "id": "13caebb2-74c5-4b30-b8ea-d87d2d8ee36e",
   "metadata": {},
   "outputs": [],
   "source": []
  }
 ],
 "metadata": {
  "kernelspec": {
   "display_name": "Python 3 (ipykernel)",
   "language": "python",
   "name": "python3"
  },
  "language_info": {
   "codemirror_mode": {
    "name": "ipython",
    "version": 3
   },
   "file_extension": ".py",
   "mimetype": "text/x-python",
   "name": "python",
   "nbconvert_exporter": "python",
   "pygments_lexer": "ipython3",
   "version": "3.10.8"
  }
 },
 "nbformat": 4,
 "nbformat_minor": 5
}
