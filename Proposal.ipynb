{
 "cells": [
  {
   "cell_type": "markdown",
   "id": "577c6a82-b00a-4d60-bc52-e82403b706bd",
   "metadata": {},
   "source": [
    "# Mobile Phone Price Prediction\n",
    "# Team Members\n",
    "Ahmet Erden - 090190743 <br>\n",
    "Baran Aslan - 090180347 <br>\n",
    "Batuhan Yaşar Sarıoğlu - 090180319 <br>\n",
    "# Dataset\n",
    "[Mobile Price Dataset](https://www.kaggle.com/datasets/pratikgarai/mobile-phone-specifications-and-prices)\n",
    "This dataset contains some features of different phone models.These features are name of the phone, brand name, model of the phone, battery capacity in mAh, screen size in inches across opposite corners, whether the phone is touchscreen supported or not, the resolution of the phone along the width of the screen, the resolution of the phone along the height of the screen, number of processor cores, RAM available in phone in megabyte, internal storage of phone in gigabyte, resolution of rear camera in MP (0 if unavailable), resolution of front camera in MP (0 if unavailable), opearation system used in phone, whether phone has Wi-Fi functionality, whether phone has bluetooth functionality, whether phone has GPS functionality, number of SIM card slots in phone, whether phone has 3G network functionality, whether phone has 4G/LTE network functionality and price of the phone in INR.\n",
    "\n",
    "# Description of the Problem\n",
    "What is the average of RAM by operating system ? <br>\n",
    "Which operating system phones are the most expensive ? <br>\n",
    "What is the brand that produces the most phone types? <br>  \n",
    "What are the usage rates of different operating systems on the phones ? <br>\n",
    "How are the distributions of numerical data <br>\n",
    "Which features are more influential in determining a phone's price ? <br>\n",
    "In this problem, we will try to estimate the price of a new phone by cleaning and analyzing the data using machine learning algorithms according to the features in the data. We will use Linear Regression, Random Forest Regression and Decision Tree Regression models since we will make price estimation in the problem. After testing these three models, we will try to predict with the most accurate model. If one of the models gets a high enough score, we hope it will help companies with a new phone launch with pricing.\n",
    "\n",
    "# Project Planing\n",
    "## Project Pieces and Calendar\n",
    "#### 27.11.2022-04.12.2022 Literature Review and Data Acquisition | Each of Team Members\n",
    "Dataset and problem research <br>\n",
    "Preparing the proposal <br>\n",
    "#### 05.12.2022-10.12.2022 Data Preprocessing, Cleaning and Visualizing \n",
    "Cleaning data | Baran Aslan <br>\n",
    "Encoding categorical variables | Ahmet Erden <br>\n",
    "Plotting and visualizing | Batuhan Yaşar Sarıoğlu <br>\n",
    "#### 11.12.2022-18.12.2022 Exploratory Data Analysis and Model Construction \n",
    "Exploratory Data Analysis | Ahmet Erden <br>\n",
    "Constructing Linear Regression model | Baran Aslan <br>\n",
    "Constructing Random Forest Regression model| Batuhan Yaşar Sarıoğlu <br>\n",
    "Constructing Decision Tree Regression model | Ahmet Erden <br>\n",
    "#### 19.12.2022-24.12.2022 Model Evaluation | Together\n",
    "Evaluating the each of the models <br>\n",
    "Model comparison <br>\n",
    "Deciding the best model <br>\n",
    "#### 28.12.2022-31.12.2022 Project Submission | Together\n",
    "Final checks and editing of the project <br>\n",
    "Submission <br>\n",
    "## Hardware and Software\n",
    "Ahmet Erden - ASUS ROG Strix G531 GT\n",
    "\n",
    "Batuhan yaşar Sarıoğlu - MSI GF65 Thin 9SD\n",
    "\n",
    "Baran Aslan - Lenovo Ideapad 3\n",
    "\n",
    "We will use Jupyter Notebook, Python 3 and its needed libraries such as Numpy, Pandas, Scikit Learn, Matplotlib."
   ]
  },
  {
   "cell_type": "markdown",
   "id": "bfd84857-a504-4c42-b3a0-d8ba29565abe",
   "metadata": {},
   "source": [
    "## Atabey's Notes\n",
    "\n",
    "### Round 1\n",
    "\n",
    "The data has been studied in this manner already at kaggle. Although I like the data, and the questions you are asking, I know that this data and these questions were studied before.\n",
    "\n",
    "Either change the dataset and find a dataset that hasn't been studied as much, or find some other questions and methods that are more interesting, deeper and require a little more work to answer than these.\n",
    "\n",
    "In either case (you decide to use this dataset, or use some other dataset) I would like to see a sample together with explanations on each piece. Moreover, you need to clearly state your hypotheses and questions. (This part is already been done.) Then you need to explain which machine learning algorithms you are going to use and explain how they are going to help you to answer the questions you are asking. How are you going to know/text if the results of the algorithms applied on the dataset confirm or contradict with your hypotheses?\n",
    "\n",
    "Finally, I am gointo need clear statements in the calendar on which team member is doing what and when.\n",
    "\n",
    "### Round 2\n",
    "\n",
    "Looks ok. "
   ]
  },
  {
   "cell_type": "code",
   "execution_count": null,
   "id": "77523594",
   "metadata": {},
   "outputs": [],
   "source": []
  }
 ],
 "metadata": {
  "kernelspec": {
   "display_name": "Python 3 (ipykernel)",
   "language": "python",
   "name": "python3"
  },
  "language_info": {
   "codemirror_mode": {
    "name": "ipython",
    "version": 3
   },
   "file_extension": ".py",
   "mimetype": "text/x-python",
   "name": "python",
   "nbconvert_exporter": "python",
   "pygments_lexer": "ipython3",
   "version": "3.10.8"
  }
 },
 "nbformat": 4,
 "nbformat_minor": 5
}
