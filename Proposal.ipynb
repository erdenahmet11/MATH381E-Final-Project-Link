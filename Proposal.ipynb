{
 "cells": [
  {
   "cell_type": "markdown",
   "id": "fd7eb68b",
   "metadata": {},
   "source": [
    "# Zomato\n",
    "\n",
    "# Team Members\n",
    "Ahmet Erden - 090190743 <br>\n",
    "Baran Aslan - 090180347 <br>\n",
    "Batuhan Yaşar Sarıoğlu - 090180319<br>\n",
    "# Dataset\n",
    "[Zomato Dataset](https://www.kaggle.com/datasets/rishikeshkonapure/zomato)\n",
    "The dataset contains the url, address, name, whether online order is available, table book option available, overall rating out of 5, total number of rating for the restaurant as of the above mentioned date, the phone number, neighborhood in which the restaurant is located, restaurant type, dishes liked, cuisines, approximate cost for two people, reviews list, menu item, category of restaurant and name of the city \n",
    "# Description of the Problem\n",
    "Does demographics matter? <br>\n",
    "Is it possible to make a reservation or order online?<br>\n",
    "Which cusine is preferred the most?<br>\n",
    "Which food can be found the most according to the regions?<br>\n",
    "What are the most expensive dishes?<br>\n",
    "In which type of restaurants and in which regions the most expensive meals?<br>\n",
    "Which restaurants are the most preferable according to rate/vote parity?<br>\n",
    "It can be found restaurants from all over the world in Bengaluru. Therefore, it is a very attractive location for gourmets. There are approximately 12 thousand restaurants in bengaluru, where the number of restaurants is increasing day by day. With such a large number of restaurants, we will take an approach that can decide how competitive a new restaurant can be.\n",
    "We will analyze the data based on the features and reviews given in the zomato.csv dataset and try to predict the rating for a particular restaurant using machine learning. We will use random forest, decision tree and linear regression algorithms while making this estimation. We will choose the one that gives the highest success rate from these algorithms.\n",
    "# Project Planing\n",
    "## Project Pieces\n",
    "Literature review will done by each member of the team. Data acquisition and cleaning will done by Baran Aslan. Data visualization will done by Batuhan Yaşar Sarıoğlu. Exploratory data analysis and model construction will done by Ahmet Erden. Model evaluation and optimization will done by each member of the team. Although we allocate tasks to everyone, we will help each other as the project progresses.\n",
    "## Hardware and Software\n",
    "We will use jupyter notebook, Python 3 and its needed libraries such as Numpy, Pandas, Scikit Learn, Matplotlib.\n",
    "Every member of group has different computer, so we are not a particular hardware.\n",
    "## Calendar\n",
    "21.11.2022 - 27.11.2022 Litearature review,understanding data, data acquisition and cleaning. <br>\n",
    "28.11.2022 - 04.12.2022 Data visualization and interpretation. <br>\n",
    "05.12.2022 - 11.12.2022 Exploratory data analysis and model construction. <br>\n",
    "12.12.2022 - 18.12.2022 Model evalutaion. <br>\n",
    "19.12.2022 - 25.12.2022 Model optimization. <br>\n",
    "26.12.2022 - 30.12.2022 Project submission."
   ]
  },
  {
   "cell_type": "code",
   "execution_count": null,
   "id": "af34a82e",
   "metadata": {},
   "outputs": [],
   "source": []
  }
 ],
 "metadata": {
  "kernelspec": {
   "display_name": "Python 3 (ipykernel)",
   "language": "python",
   "name": "python3"
  },
  "language_info": {
   "codemirror_mode": {
    "name": "ipython",
    "version": 3
   },
   "file_extension": ".py",
   "mimetype": "text/x-python",
   "name": "python",
   "nbconvert_exporter": "python",
   "pygments_lexer": "ipython3",
   "version": "3.10.7"
  }
 },
 "nbformat": 4,
 "nbformat_minor": 5
}
